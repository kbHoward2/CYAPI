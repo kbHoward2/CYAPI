{
 "cells": [
  {
   "cell_type": "code",
   "execution_count": null,
   "id": "245702eb",
   "metadata": {},
   "outputs": [
    {
     "name": "stdout",
     "output_type": "stream",
     "text": [
      "{'links': {'self': '/authors/OL13696562A/works.json', 'author': '/authors/OL13696562A'}, 'size': 27, 'entries': [{'type': {'key': '/type/work'}, 'title': 'Senor de Los Anillos', 'authors': [{'type': {'key': '/type/author_role'}, 'author': {'key': '/authors/OL13696562A'}}], 'key': '/works/OL40140497W', 'latest_revision': 2, 'revision': 2, 'created': {'type': '/type/datetime', 'value': '2024-09-22T09:38:49.660297'}, 'last_modified': {'type': '/type/datetime', 'value': '2025-03-08T02:25:21.298596'}}, {'type': {'key': '/type/work'}, 'title': 'Hobbit and the Lord of the Rings Illustrated by Alan Lee Box Set', 'authors': [{'type': {'key': '/type/author_role'}, 'author': {'key': '/authors/OL13696562A'}}], 'key': '/works/OL42554726W', 'latest_revision': 1, 'revision': 1, 'created': {'type': '/type/datetime', 'value': '2025-02-17T03:05:00.577448'}, 'last_modified': {'type': '/type/datetime', 'value': '2025-02-17T03:05:00.577448'}}, {'type': {'key': '/type/work'}, 'title': 'Tolkien Myths and Legends Box Set', 'authors': [{'type': {'key': '/type/author_role'}, 'author': {'key': '/authors/OL13696562A'}}, {'type': {'key': '/type/author_role'}, 'author': {'key': '/authors/OL14991321A'}}], 'key': '/works/OL42441174W', 'latest_revision': 1, 'revision': 1, 'created': {'type': '/type/datetime', 'value': '2025-01-25T02:45:13.260549'}, 'last_modified': {'type': '/type/datetime', 'value': '2025-01-25T02:45:13.260549'}}, {'type': {'key': '/type/work'}, 'title': 'Smith of Wootton Major', 'authors': [{'type': {'key': '/type/author_role'}, 'author': {'key': '/authors/OL13696562A'}}, {'type': {'key': '/type/author_role'}, 'author': {'key': '/authors/OL6495404A'}}, {'type': {'key': '/type/author_role'}, 'author': {'key': '/authors/OL1078747A'}}], 'key': '/works/OL42412151W', 'latest_revision': 1, 'revision': 1, 'created': {'type': '/type/datetime', 'value': '2025-01-24T22:31:52.441066'}, 'last_modified': {'type': '/type/datetime', 'value': '2025-01-24T22:31:52.441066'}}, {'type': {'key': '/type/work'}, 'title': 'Tree and Leaf', 'authors': [{'type': {'key': '/type/author_role'}, 'author': {'key': '/authors/OL13696562A'}}, {'type': {'key': '/type/author_role'}, 'author': {'key': '/authors/OL14991321A'}}, {'type': {'key': '/type/author_role'}, 'author': {'key': '/authors/OL1078747A'}}], 'key': '/works/OL42397579W', 'latest_revision': 1, 'revision': 1, 'created': {'type': '/type/datetime', 'value': '2025-01-24T20:13:32.697790'}, 'last_modified': {'type': '/type/datetime', 'value': '2025-01-24T20:13:32.697790'}}, {'type': {'key': '/type/work'}, 'title': 'The Lord of the Rings Trilogy, 3 Volumes boxed Set', 'authors': [{'type': {'key': '/type/author_role'}, 'author': {'key': '/authors/OL13696562A'}}], 'key': '/works/OL41907164W', 'latest_revision': 1, 'revision': 1, 'created': {'type': '/type/datetime', 'value': '2024-10-06T09:06:58.127243'}, 'last_modified': {'type': '/type/datetime', 'value': '2024-10-06T09:06:58.127243'}}, {'type': {'key': '/type/work'}, 'title': 'The Tolkien Reader', 'authors': [{'type': {'key': '/type/author_role'}, 'author': {'key': '/authors/OL13696562A'}}], 'key': '/works/OL41905094W', 'latest_revision': 1, 'revision': 1, 'created': {'type': '/type/datetime', 'value': '2024-10-06T06:59:30.119616'}, 'last_modified': {'type': '/type/datetime', 'value': '2024-10-06T06:59:30.119616'}}, {'type': {'key': '/type/work'}, 'title': 'Lord of the Rings Trilogy', 'authors': [{'type': {'key': '/type/author_role'}, 'author': {'key': '/authors/OL13696562A'}}], 'key': '/works/OL41602564W', 'latest_revision': 1, 'revision': 1, 'created': {'type': '/type/datetime', 'value': '2024-10-03T19:15:33.108059'}, 'last_modified': {'type': '/type/datetime', 'value': '2024-10-03T19:15:33.108059'}}, {'type': {'key': '/type/work'}, 'title': 'Lay of Aotrou and Itroun', 'subjects': ['Fiction, fantasy, general'], 'authors': [{'type': {'key': '/type/author_role'}, 'author': {'key': '/authors/OL13696562A'}}], 'key': '/works/OL41540029W', 'latest_revision': 1, 'revision': 1, 'created': {'type': '/type/datetime', 'value': '2024-10-03T07:16:42.448104'}, 'last_modified': {'type': '/type/datetime', 'value': '2024-10-03T07:16:42.448104'}}, {'type': {'key': '/type/work'}, 'title': 'Middle English Vocabulary', 'authors': [{'type': {'key': '/type/author_role'}, 'author': {'key': '/authors/OL13696562A'}}], 'key': '/works/OL41077733W', 'latest_revision': 1, 'revision': 1, 'created': {'type': '/type/datetime', 'value': '2024-09-29T13:38:21.917674'}, 'last_modified': {'type': '/type/datetime', 'value': '2024-09-29T13:38:21.917674'}}, {'type': {'key': '/type/work'}, 'title': 'Return of the King', 'authors': [{'type': {'key': '/type/author_role'}, 'author': {'key': '/authors/OL14456887A'}}, {'type': {'key': '/type/author_role'}, 'author': {'key': '/authors/OL13696562A'}}, {'type': {'key': '/type/author_role'}, 'author': {'key': '/authors/OL14456888A'}}], 'key': '/works/OL41053770W', 'covers': [14911818], 'latest_revision': 2, 'revision': 2, 'created': {'type': '/type/datetime', 'value': '2024-09-29T09:14:10.003941'}, 'last_modified': {'type': '/type/datetime', 'value': '2025-04-27T14:09:25.870664'}}, {'type': {'key': '/type/work'}, 'title': 'Señor de Los Anillos', 'authors': [{'type': {'key': '/type/author_role'}, 'author': {'key': '/authors/OL13696562A'}}, {'type': {'key': '/type/author_role'}, 'author': {'key': '/authors/OL3888009A'}}], 'key': '/works/OL40852464W', 'latest_revision': 1, 'revision': 1, 'created': {'type': '/type/datetime', 'value': '2024-09-27T20:10:30.148222'}, 'last_modified': {'type': '/type/datetime', 'value': '2024-09-27T20:10:30.148222'}}, {'type': {'key': '/type/work'}, 'title': 'Fellowship of the Ring', 'authors': [{'type': {'key': '/type/author_role'}, 'author': {'key': '/authors/OL14456887A'}}, {'type': {'key': '/type/author_role'}, 'author': {'key': '/authors/OL13696562A'}}, {'type': {'key': '/type/author_role'}, 'author': {'key': '/authors/OL14456888A'}}], 'key': '/works/OL40334275W', 'latest_revision': 1, 'revision': 1, 'created': {'type': '/type/datetime', 'value': '2024-09-23T20:08:05.985466'}, 'last_modified': {'type': '/type/datetime', 'value': '2024-09-23T20:08:05.985466'}}, {'type': {'key': '/type/work'}, 'title': 'Hobbit', 'key': '/works/OL34639554W', 'subjects': ['Gandalf (fictitious character), fiction', 'British and irish fiction (fictional works by one author)', 'Fiction, fantasy, epic', 'Middle earth (imaginary place), fiction', 'Baggins, bilbo (fictitious character), fiction'], 'authors': [{'type': {'key': '/type/author_role'}, 'author': {'key': '/authors/OL13696562A'}}], 'latest_revision': 2, 'revision': 2, 'created': {'type': '/type/datetime', 'value': '2023-02-28T04:28:17.437212'}, 'last_modified': {'type': '/type/datetime', 'value': '2024-09-20T21:40:16.445604'}}, {'type': {'key': '/type/work'}, 'title': 'Hobit', 'authors': [{'type': {'key': '/type/author_role'}, 'author': {'key': '/authors/OL13696562A'}}, {'type': {'key': '/type/author_role'}, 'author': {'key': '/authors/OL8155293A'}}], 'key': '/works/OL39828163W', 'latest_revision': 1, 'revision': 1, 'created': {'type': '/type/datetime', 'value': '2024-09-19T23:17:24.056915'}, 'last_modified': {'type': '/type/datetime', 'value': '2024-09-19T23:17:24.056915'}}, {'type': {'key': '/type/work'}, 'title': \"Bilbo's Last Song\", 'authors': [{'type': {'key': '/type/author_role'}, 'author': {'key': '/authors/OL13696562A'}}], 'key': '/works/OL39499357W', 'latest_revision': 1, 'revision': 1, 'created': {'type': '/type/datetime', 'value': '2024-09-08T01:36:55.079426'}, 'last_modified': {'type': '/type/datetime', 'value': '2024-09-08T01:36:55.079426'}}, {'type': {'key': '/type/work'}, 'title': 'Collected Poems of J. R. R. Tolkien Box Set', 'authors': [{'type': {'key': '/type/author_role'}, 'author': {'key': '/authors/OL13696562A'}}], 'key': '/works/OL39181338W', 'latest_revision': 1, 'revision': 1, 'created': {'type': '/type/datetime', 'value': '2024-08-17T23:00:48.796262'}, 'last_modified': {'type': '/type/datetime', 'value': '2024-08-17T23:00:48.796262'}}, {'type': {'key': '/type/work'}, 'title': 'Tolkien Diary 2003', 'authors': [{'type': {'key': '/type/author_role'}, 'author': {'key': '/authors/OL13696562A'}}], 'key': '/works/OL38402365W', 'latest_revision': 1, 'revision': 1, 'created': {'type': '/type/datetime', 'value': '2024-06-22T00:40:51.071872'}, 'last_modified': {'type': '/type/datetime', 'value': '2024-06-22T00:40:51.071872'}}, {'type': {'key': '/type/work'}, 'title': \"Lord of the Rings Collector's Edition Box Set\", 'authors': [{'type': {'key': '/type/author_role'}, 'author': {'key': '/authors/OL13696562A'}}], 'key': '/works/OL38384252W', 'latest_revision': 1, 'revision': 1, 'created': {'type': '/type/datetime', 'value': '2024-06-21T17:19:35.638098'}, 'last_modified': {'type': '/type/datetime', 'value': '2024-06-21T17:19:35.638098'}}, {'type': {'key': '/type/work'}, 'title': 'Lord of the Rings Deluxe Illustrated Box Set', 'authors': [{'type': {'key': '/type/author_role'}, 'author': {'key': '/authors/OL13696562A'}}], 'key': '/works/OL38384053W', 'latest_revision': 1, 'revision': 1, 'created': {'type': '/type/datetime', 'value': '2024-06-21T17:15:39.833377'}, 'last_modified': {'type': '/type/datetime', 'value': '2024-06-21T17:15:39.833377'}}, {'type': {'key': '/type/work'}, 'title': 'Collected Poems of J. R. R. Tolkien', 'authors': [{'type': {'key': '/type/author_role'}, 'author': {'key': '/authors/OL13696562A'}}], 'key': '/works/OL38383376W', 'latest_revision': 1, 'revision': 1, 'created': {'type': '/type/datetime', 'value': '2024-06-21T16:59:40.270053'}, 'last_modified': {'type': '/type/datetime', 'value': '2024-06-21T16:59:40.270053'}}, {'type': {'key': '/type/work'}, 'title': 'Fall of Númenor', 'authors': [{'type': {'key': '/type/author_role'}, 'author': {'key': '/authors/OL13696562A'}}], 'key': '/works/OL38380144W', 'latest_revision': 1, 'revision': 1, 'created': {'type': '/type/datetime', 'value': '2024-06-21T15:54:16.822022'}, 'last_modified': {'type': '/type/datetime', 'value': '2024-06-21T15:54:16.822022'}}, {'type': {'key': '/type/work'}, 'title': 'Treebeard', 'authors': [{'type': {'key': '/type/author_role'}, 'author': {'key': '/authors/OL13696562A'}}], 'key': '/works/OL38288235W', 'latest_revision': 1, 'revision': 1, 'created': {'type': '/type/datetime', 'value': '2024-06-20T01:50:26.165847'}, 'last_modified': {'type': '/type/datetime', 'value': '2024-06-20T01:50:26.165847'}}, {'type': {'key': '/type/work'}, 'title': 'Lord of the Rings', 'authors': [{'type': {'key': '/type/author_role'}, 'author': {'key': '/authors/OL13696562A'}}, {'type': {'key': '/type/author_role'}, 'author': {'key': '/authors/OL7958794A'}}], 'key': '/works/OL38128342W', 'latest_revision': 1, 'revision': 1, 'created': {'type': '/type/datetime', 'value': '2024-06-17T19:59:33.551572'}, 'last_modified': {'type': '/type/datetime', 'value': '2024-06-17T19:59:33.551572'}}, {'type': {'key': '/type/work'}, 'title': 'Lord of the Rings Movie Trilogy Colouring Book', 'authors': [{'type': {'key': '/type/author_role'}, 'author': {'key': '/authors/OL13696562A'}}, {'type': {'key': '/type/author_role'}, 'author': {'key': '/authors/OL9713202A'}}, {'type': {'key': '/type/author_role'}, 'author': {'key': '/authors/OL10164549A'}}], 'key': '/works/OL38128004W', 'latest_revision': 1, 'revision': 1, 'created': {'type': '/type/datetime', 'value': '2024-06-17T19:50:44.964519'}, 'last_modified': {'type': '/type/datetime', 'value': '2024-06-17T19:50:44.964519'}}, {'type': {'key': '/type/work'}, 'title': 'Farmer Giles of Ham', 'authors': [{'type': {'key': '/type/author_role'}, 'author': {'key': '/authors/OL13696562A'}}, {'type': {'key': '/type/author_role'}, 'author': {'key': '/authors/OL1078747A'}}, {'type': {'key': '/type/author_role'}, 'author': {'key': '/authors/OL2623691A'}}, {'type': {'key': '/type/author_role'}, 'author': {'key': '/authors/OL39015A'}}], 'key': '/works/OL38127629W', 'latest_revision': 1, 'revision': 1, 'created': {'type': '/type/datetime', 'value': '2024-06-17T19:34:50.881542'}, 'last_modified': {'type': '/type/datetime', 'value': '2024-06-17T19:34:50.881542'}}, {'type': {'key': '/type/work'}, 'title': 'Mr Bliss', 'authors': [{'type': {'key': '/type/author_role'}, 'author': {'key': '/authors/OL13696562A'}}], 'key': '/works/OL38120344W', 'latest_revision': 1, 'revision': 1, 'created': {'type': '/type/datetime', 'value': '2024-06-17T15:43:43.910349'}, 'last_modified': {'type': '/type/datetime', 'value': '2024-06-17T15:43:43.910349'}}]}\n",
      "success\n"
     ]
    }
   ],
   "source": [
    "import pandas as pd\n",
    "import requests\n",
    "\n",
    "# OL13696562A <-- J.R.R Tolkien Author ID\n",
    "url = 'https://openlibrary.org/authors/OL13696562A/works.json'\n",
    "response = requests.get(url)\n",
    "\n",
    "if response.status_code == 200:\n",
    "    data = response.json()\n",
    "    print(data)\n",
    "    print('success')\n",
    "else:\n",
    "    print(f\"error: {response.status_code}\")\n",
    "\n",
    "# Grab the entries data list. Otherwise this will break\n",
    "df = pd.DataFrame(data['entries'])\n"
   ]
  },
  {
   "cell_type": "code",
   "execution_count": 21,
   "id": "7a9e30c0",
   "metadata": {},
   "outputs": [
    {
     "name": "stdout",
     "output_type": "stream",
     "text": [
      "0                                  Senor de Los Anillos\n",
      "1     Hobbit and the Lord of the Rings Illustrated b...\n",
      "2                     Tolkien Myths and Legends Box Set\n",
      "3                                Smith of Wootton Major\n",
      "4                                         Tree and Leaf\n",
      "5     The Lord of the Rings Trilogy, 3 Volumes boxed...\n",
      "6                                    The Tolkien Reader\n",
      "7                             Lord of the Rings Trilogy\n",
      "8                              Lay of Aotrou and Itroun\n",
      "9                             Middle English Vocabulary\n",
      "10                                   Return of the King\n",
      "11                                 Señor de Los Anillos\n",
      "12                               Fellowship of the Ring\n",
      "13                                               Hobbit\n",
      "14                                                Hobit\n",
      "15                                    Bilbo's Last Song\n",
      "16          Collected Poems of J. R. R. Tolkien Box Set\n",
      "17                                   Tolkien Diary 2003\n",
      "18        Lord of the Rings Collector's Edition Box Set\n",
      "19         Lord of the Rings Deluxe Illustrated Box Set\n",
      "20                  Collected Poems of J. R. R. Tolkien\n",
      "21                                      Fall of Númenor\n",
      "22                                            Treebeard\n",
      "23                                    Lord of the Rings\n",
      "24       Lord of the Rings Movie Trilogy Colouring Book\n",
      "25                                  Farmer Giles of Ham\n",
      "26                                             Mr Bliss\n",
      "Name: title, dtype: object\n"
     ]
    }
   ],
   "source": [
    "print(df['title'])"
   ]
  }
 ],
 "metadata": {
  "kernelspec": {
   "display_name": ".venv",
   "language": "python",
   "name": "python3"
  },
  "language_info": {
   "codemirror_mode": {
    "name": "ipython",
    "version": 3
   },
   "file_extension": ".py",
   "mimetype": "text/x-python",
   "name": "python",
   "nbconvert_exporter": "python",
   "pygments_lexer": "ipython3",
   "version": "3.12.3"
  }
 },
 "nbformat": 4,
 "nbformat_minor": 5
}
